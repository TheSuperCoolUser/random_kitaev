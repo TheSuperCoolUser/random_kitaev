{
  "nbformat": 4,
  "nbformat_minor": 0,
  "metadata": {
    "colab": {
      "provenance": []
    },
    "kernelspec": {
      "name": "python3",
      "display_name": "Python 3"
    },
    "language_info": {
      "name": "python"
    }
  },
  "cells": [
    {
      "cell_type": "code",
      "source": [
        "!pip install freud-analysis"
      ],
      "metadata": {
        "id": "afxsxBTDEyM7",
        "colab": {
          "base_uri": "https://localhost:8080/"
        },
        "outputId": "77953d8e-80fc-4895-ff19-e9493041a46d"
      },
      "execution_count": 1,
      "outputs": [
        {
          "output_type": "stream",
          "name": "stdout",
          "text": [
            "Collecting freud-analysis\n",
            "  Downloading freud_analysis-3.4.0-cp311-cp311-manylinux_2_17_x86_64.manylinux2014_x86_64.whl.metadata (8.1 kB)\n",
            "Requirement already satisfied: numpy>=1.19 in /usr/local/lib/python3.11/dist-packages (from freud-analysis) (2.0.2)\n",
            "Collecting rowan>=1.2.1 (from freud-analysis)\n",
            "  Downloading rowan-1.3.2-py3-none-any.whl.metadata (9.0 kB)\n",
            "Requirement already satisfied: scipy>=1.1 in /usr/local/lib/python3.11/dist-packages (from freud-analysis) (1.16.1)\n",
            "Collecting parsnip-cif>=0.2.0 (from freud-analysis)\n",
            "  Downloading parsnip_cif-0.3.0-py3-none-any.whl.metadata (5.9 kB)\n",
            "Requirement already satisfied: more-itertools in /usr/local/lib/python3.11/dist-packages (from parsnip-cif>=0.2.0->freud-analysis) (10.7.0)\n",
            "Downloading freud_analysis-3.4.0-cp311-cp311-manylinux_2_17_x86_64.manylinux2014_x86_64.whl (2.1 MB)\n",
            "\u001b[2K   \u001b[90m━━━━━━━━━━━━━━━━━━━━━━━━━━━━━━━━━━━━━━━━\u001b[0m \u001b[32m2.1/2.1 MB\u001b[0m \u001b[31m19.2 MB/s\u001b[0m eta \u001b[36m0:00:00\u001b[0m\n",
            "\u001b[?25hDownloading parsnip_cif-0.3.0-py3-none-any.whl (19 kB)\n",
            "Downloading rowan-1.3.2-py3-none-any.whl (28 kB)\n",
            "Installing collected packages: rowan, parsnip-cif, freud-analysis\n",
            "Successfully installed freud-analysis-3.4.0 parsnip-cif-0.3.0 rowan-1.3.2\n"
          ]
        }
      ]
    },
    {
      "cell_type": "code",
      "execution_count": 2,
      "metadata": {
        "id": "AlsTWiR6Eqry"
      },
      "outputs": [],
      "source": [
        "import numpy as np\n",
        "import matplotlib\n",
        "import matplotlib.pyplot as plt\n",
        "\n",
        "import freud # для создания диаграммы Вороного\n",
        "import networkx as nx # для создания матрицы смежности"
      ]
    },
    {
      "cell_type": "code",
      "execution_count": 3,
      "metadata": {
        "id": "9bdb7ef5-811d-4488-9a04-82cc25a92f64"
      },
      "outputs": [],
      "source": [
        "def generate_points(N):\n",
        "    points = np.vstack((np.random.uniform(0, 1, N, ), np.random.uniform(0, 1, N))).T # generate uniformly distributed points in [0,1]^2\n",
        "    points = np.hstack((points, np.zeros((N, 1)))) # add z=0 component for freud\n",
        "    box = freud.box.Box(Lx=1, Ly=1, is2D=True)\n",
        "    points = box.wrap(points)\n",
        "    return box, points"
      ]
    },
    {
      "cell_type": "code",
      "execution_count": 4,
      "metadata": {
        "id": "55f16f3d-9171-4de2-9604-def78e2576b6"
      },
      "outputs": [],
      "source": [
        "def normalization(coord): # нужно закодировать каждую вершину, желательно убирая эффекты арифметики с плавающей точкой\n",
        "    x = coord[0]\n",
        "    if x < -0.5:\n",
        "        x += 1.\n",
        "    elif x > 0.5:\n",
        "        x -= 1.\n",
        "    y = coord[1]\n",
        "    if y < -0.5:\n",
        "        y += 1.\n",
        "    elif y > 0.5:\n",
        "        y -= 1.\n",
        "    return (str(round(x, 8)) + \" \" + str(round(y, 8))) # для этого я храню координаты как строки с заранее заданной точностью\n",
        "                                                       # (если есть ошибка, можно пропустить и не парить мозги)"
      ]
    },
    {
      "cell_type": "code",
      "execution_count": 5,
      "metadata": {
        "id": "3c186359-4ad6-47c0-808c-78208c8ed8f2"
      },
      "outputs": [],
      "source": [
        "def get_vertices(cells): # нужно получить список вершин, чтобы потом обращаться к нему и записывать ребра\n",
        "    vertices = np.concatenate(cells)\n",
        "    vertices2 = np.asarray([normalization(x) for x in vertices])\n",
        "    return {x: i for i,x in enumerate(sorted(vertices2)[::3])} # здесь использую, что графы получаются 3-регулярными, если не получился, то undefined behaviour ИСПРАВИТЬ"
      ]
    },
    {
      "cell_type": "code",
      "execution_count": 6,
      "metadata": {
        "id": "70ef3006-a3d0-41a8-b9f0-c4d1283c3979"
      },
      "outputs": [],
      "source": [
        "def transform(cells): # функция сделана для удобства\n",
        "    ans = []\n",
        "    for cell in cells:\n",
        "        ans.append([normalization(x) for x in cell])\n",
        "    return ans"
      ]
    },
    {
      "cell_type": "code",
      "execution_count": 7,
      "metadata": {
        "id": "e3faa960-83db-4f41-ac7f-3b9334aff629"
      },
      "outputs": [],
      "source": [
        "def get_edges(vertices, transformed_cells): # собираю список ребер, из которого потом получим граф\n",
        "    edges = []\n",
        "    for cell in transformed_cells:\n",
        "        cell = cell.copy()\n",
        "        l = len(cell)\n",
        "        cell.append(cell[0])\n",
        "        for i in range(l):\n",
        "            edge = (vertices.get(cell[i]), vertices.get(cell[i+1]))\n",
        "            edges.append(edge)\n",
        "    return edges # не смотрели на повторы ребер, но потом матрица смежности их не учитывает"
      ]
    },
    {
      "cell_type": "code",
      "execution_count": 8,
      "metadata": {
        "id": "b4363713-1636-450b-8726-853b0357e223"
      },
      "outputs": [],
      "source": [
        "def voronoi_adjacency_matrix(N): # засунул все в одну функцию\n",
        "    box, points = generate_points(N)\n",
        "    voro = freud.locality.Voronoi()\n",
        "    cells = voro.compute((box, points)).polytopes\n",
        "\n",
        "    vertices = get_vertices(cells)\n",
        "    transformed_cells = transform(cells)\n",
        "\n",
        "    edgelist = get_edges(vertices, transformed_cells)\n",
        "    G = nx.Graph(edgelist)\n",
        "    A = nx.adjacency_matrix(G)\n",
        "    #nx.draw(G)\n",
        "    degrees = np.sum(A, axis=1)\n",
        "    if np.all(degrees == 3):\n",
        "      return A.toarray()\n",
        "    else:\n",
        "      return np.empty((0,0))"
      ]
    },
    {
      "cell_type": "code",
      "source": [
        "from collections import defaultdict"
      ],
      "metadata": {
        "id": "-IxhDwWQFtDh"
      },
      "execution_count": 9,
      "outputs": []
    },
    {
      "cell_type": "code",
      "source": [
        "pip install python-igraph"
      ],
      "metadata": {
        "colab": {
          "base_uri": "https://localhost:8080/"
        },
        "id": "5UNmHFE2cm7g",
        "outputId": "196dac14-b947-4fb7-d3f2-24b5e766b977"
      },
      "execution_count": 11,
      "outputs": [
        {
          "output_type": "stream",
          "name": "stdout",
          "text": [
            "Collecting python-igraph\n",
            "  Downloading python_igraph-0.11.9-py3-none-any.whl.metadata (3.1 kB)\n",
            "Collecting igraph==0.11.9 (from python-igraph)\n",
            "  Downloading igraph-0.11.9-cp39-abi3-manylinux_2_17_x86_64.manylinux2014_x86_64.whl.metadata (4.4 kB)\n",
            "Collecting texttable>=1.6.2 (from igraph==0.11.9->python-igraph)\n",
            "  Downloading texttable-1.7.0-py2.py3-none-any.whl.metadata (9.8 kB)\n",
            "Downloading python_igraph-0.11.9-py3-none-any.whl (9.2 kB)\n",
            "Downloading igraph-0.11.9-cp39-abi3-manylinux_2_17_x86_64.manylinux2014_x86_64.whl (4.4 MB)\n",
            "\u001b[2K   \u001b[90m━━━━━━━━━━━━━━━━━━━━━━━━━━━━━━━━━━━━━━━━\u001b[0m \u001b[32m4.4/4.4 MB\u001b[0m \u001b[31m28.8 MB/s\u001b[0m eta \u001b[36m0:00:00\u001b[0m\n",
            "\u001b[?25hDownloading texttable-1.7.0-py2.py3-none-any.whl (10 kB)\n",
            "Installing collected packages: texttable, igraph, python-igraph\n",
            "Successfully installed igraph-0.11.9 python-igraph-0.11.9 texttable-1.7.0\n"
          ]
        }
      ]
    },
    {
      "cell_type": "code",
      "source": [
        "pip install pynauty"
      ],
      "metadata": {
        "colab": {
          "base_uri": "https://localhost:8080/"
        },
        "id": "wpyiP-LdXqSU",
        "outputId": "8b3ff0e1-c17f-47e1-d20e-bea7b23f2883"
      },
      "execution_count": 13,
      "outputs": [
        {
          "output_type": "stream",
          "name": "stdout",
          "text": [
            "Collecting pynauty\n",
            "  Downloading pynauty-2.8.8.1.tar.gz (2.3 MB)\n",
            "\u001b[?25l     \u001b[90m━━━━━━━━━━━━━━━━━━━━━━━━━━━━━━━━━━━━━━━━\u001b[0m \u001b[32m0.0/2.3 MB\u001b[0m \u001b[31m?\u001b[0m eta \u001b[36m-:--:--\u001b[0m\r\u001b[2K     \u001b[91m━━━━\u001b[0m\u001b[90m╺\u001b[0m\u001b[90m━━━━━━━━━━━━━━━━━━━━━━━━━━━━━━━━━━━\u001b[0m \u001b[32m0.2/2.3 MB\u001b[0m \u001b[31m7.2 MB/s\u001b[0m eta \u001b[36m0:00:01\u001b[0m\r\u001b[2K     \u001b[91m━━━━━━━━━━━━━━━━━━━━━━━━━━━━\u001b[0m\u001b[91m╸\u001b[0m\u001b[90m━━━━━━━━━━━\u001b[0m \u001b[32m1.7/2.3 MB\u001b[0m \u001b[31m22.6 MB/s\u001b[0m eta \u001b[36m0:00:01\u001b[0m\r\u001b[2K     \u001b[90m━━━━━━━━━━━━━━━━━━━━━━━━━━━━━━━━━━━━━━━━\u001b[0m \u001b[32m2.3/2.3 MB\u001b[0m \u001b[31m21.3 MB/s\u001b[0m eta \u001b[36m0:00:00\u001b[0m\n",
            "\u001b[?25h  Preparing metadata (setup.py) ... \u001b[?25l\u001b[?25hdone\n",
            "Building wheels for collected packages: pynauty\n",
            "  Building wheel for pynauty (setup.py) ... \u001b[?25l\u001b[?25hdone\n",
            "  Created wheel for pynauty: filename=pynauty-2.8.8.1-cp311-cp311-linux_x86_64.whl size=181870 sha256=727e0d0e45bd86511d1c095f3bfdd3328b06718593dc34ac351116c06f2526e2\n",
            "  Stored in directory: /root/.cache/pip/wheels/c1/e3/ba/722f2d9187889ac73ce949422b5b698450d8d1390b479adab8\n",
            "Successfully built pynauty\n",
            "Installing collected packages: pynauty\n",
            "Successfully installed pynauty-2.8.8.1\n"
          ]
        }
      ]
    },
    {
      "cell_type": "code",
      "source": [
        "import pynauty\n",
        "\n",
        "def graph_to_canonical_form(adj_matrix, adj_list):\n",
        "    \"\"\"\n",
        "    Переводит граф, заданный матрицей смежности, в каноническую форму с помощью nauty.\n",
        "    Возвращает каноническую матрицу.\n",
        "    \"\"\"\n",
        "    n = adj_matrix.shape[0]\n",
        "\n",
        "    edges = [(i, j) for i in range(n) for j in range(i+1, n) if adj_matrix[i,j]!=0]\n",
        "\n",
        "    # Создаем граф из матрицы\n",
        "    adj_dict = {}\n",
        "\n",
        "    # Проходим по списку рёбер и заполняем словарь\n",
        "    for u, v in edges:\n",
        "        # Добавляем v в список смежных вершин для u\n",
        "        if u not in adj_dict:\n",
        "            adj_dict[u] = []\n",
        "        adj_dict[u].append(v)\n",
        "\n",
        "        # Так как граф неориентированный, добавляем u в список для v\n",
        "        if v not in adj_dict:\n",
        "            adj_dict[v] = []\n",
        "        adj_dict[v].append(u)\n",
        "\n",
        "    g = pynauty.Graph(\n",
        "        number_of_vertices=n,\n",
        "        adjacency_dict=adj_dict,\n",
        "        directed=False\n",
        "    )\n",
        "\n",
        "    # Получаем каноническую нумерацию вершин\n",
        "    canon_labeling = pynauty.canon_graph(g)\n",
        "    #print(canon_labeling)\n",
        "\n",
        "    adj_dict = canon_labeling.adjacency_dict\n",
        "\n",
        "    adj_list.append(adj_dict) #список словарей смежности\n",
        "\n",
        "    # Преобразуем в кортежи с отсортированными списками\n",
        "    hashable_representation = tuple(\n",
        "        (node, tuple(sorted(neighbors)))\n",
        "        for node, neighbors in sorted(adj_dict.items())\n",
        "    )\n",
        "\n",
        "    # Получаем хэш\n",
        "    hash_value = hash(hashable_representation)\n",
        "\n",
        "    return hash_value"
      ],
      "metadata": {
        "id": "cJo7m_sEXvup"
      },
      "execution_count": 14,
      "outputs": []
    },
    {
      "cell_type": "code",
      "source": [
        "matrices = [\n",
        "      [[0, 1, 0, 1, 0, 1],\n",
        "       [1, 0, 1, 0, 0, 1],\n",
        "       [0, 1, 0, 1, 1, 0],\n",
        "       [1, 0, 1, 0, 1, 0],\n",
        "       [0, 0, 1, 1, 0, 1],\n",
        "       [1, 1, 0, 0, 1, 0]],\n",
        "      [[0, 1, 0, 1, 1, 0],\n",
        "       [1, 0, 1, 0, 0, 1],\n",
        "       [0, 1, 0, 1, 0, 1],\n",
        "       [1, 0, 1, 0, 1, 0],\n",
        "       [1, 0, 0, 1, 0, 1],\n",
        "       [0, 1, 1, 0, 1, 0]],\n",
        "      [[0, 1, 0, 0, 1, 1],\n",
        "       [1, 0, 1, 0, 0, 1],\n",
        "       [0, 1, 0, 1, 1, 0],\n",
        "       [0, 0, 1, 0, 1, 1],\n",
        "       [1, 0, 1, 1, 0, 0],\n",
        "       [1, 1, 0, 1, 0, 0]],\n",
        "      [[0, 1, 1, 1, 0, 0],\n",
        "       [1, 0, 1, 0, 1, 0],\n",
        "       [1, 1, 0, 0, 0, 1],\n",
        "       [1, 0, 0, 0, 1, 1],\n",
        "       [0, 1, 0, 1, 0, 1],\n",
        "       [0, 0, 1, 1, 1, 0]]\n",
        "      ]\n",
        "\n",
        "groups = defaultdict(list)\n",
        "\n",
        "l = []\n",
        "\n",
        "for idx, adj in enumerate(matrices):\n",
        "    adj_np = np.array(adj)\n",
        "    form = graph_to_canonical_form(adj_np, l)\n",
        "    groups[form].append(idx)\n"
      ],
      "metadata": {
        "id": "N8PRMbKNT-Rq"
      },
      "execution_count": 16,
      "outputs": []
    },
    {
      "cell_type": "code",
      "source": [
        "for class_id, (form_key, graph_indices) in enumerate(groups.items(), 1):\n",
        "    print(f\"Класс {class_id}: графы с индексами {graph_indices}\")"
      ],
      "metadata": {
        "colab": {
          "base_uri": "https://localhost:8080/"
        },
        "id": "TD5De6g8VDIQ",
        "outputId": "476c9ab7-607c-4924-f64b-8d7e2450898e"
      },
      "execution_count": 17,
      "outputs": [
        {
          "output_type": "stream",
          "name": "stdout",
          "text": [
            "Класс 1: графы с индексами [0, 1, 2, 3]\n"
          ]
        }
      ]
    },
    {
      "cell_type": "code",
      "source": [
        "#Получим статистику для 1000 графов с 10 вершинами\n",
        "\n",
        "matrices = []\n",
        "i = 0\n",
        "\n",
        "l_adj = []\n",
        "\n",
        "while i < 1000:\n",
        "  m = voronoi_adjacency_matrix(5)\n",
        "  if m.shape != (0,0):\n",
        "    matrices.append(m)\n",
        "    i+=1\n",
        "\n",
        "# Группировка по изоморфным классам\n",
        "groups = defaultdict(list)\n",
        "\n",
        "\n",
        "for idx, adj in enumerate(matrices):\n",
        "    adj_np = np.array(adj)\n",
        "    form = graph_to_canonical_form(adj_np, l_adj)\n",
        "    groups[form].append(idx)\n",
        "\n",
        "# Вывод результатов\n",
        "for class_id, (form_key, graph_indices) in enumerate(groups.items(), 1):\n",
        "    print(f\"Класс {class_id}: графы с индексами {graph_indices}\")"
      ],
      "metadata": {
        "colab": {
          "base_uri": "https://localhost:8080/"
        },
        "id": "ae7RziwuJwR8",
        "outputId": "12fc1416-6b1a-423d-e4ad-fd38fe847e75"
      },
      "execution_count": 18,
      "outputs": [
        {
          "output_type": "stream",
          "name": "stdout",
          "text": [
            "Класс 1: графы с индексами [0, 3, 8, 9, 10, 13, 14, 15, 17, 19, 22, 23, 25, 28, 29, 36, 39, 40, 45, 47, 49, 53, 54, 55, 56, 58, 59, 60, 61, 63, 65, 67, 69, 70, 71, 72, 74, 75, 76, 80, 81, 85, 86, 87, 91, 95, 96, 97, 98, 99, 101, 102, 103, 106, 107, 108, 109, 114, 115, 116, 117, 118, 122, 125, 131, 133, 136, 140, 145, 147, 148, 149, 150, 151, 155, 157, 159, 161, 162, 163, 165, 168, 169, 170, 172, 173, 175, 177, 178, 180, 181, 182, 183, 186, 187, 189, 190, 191, 196, 198, 202, 204, 207, 208, 209, 212, 214, 215, 216, 217, 218, 221, 222, 225, 226, 227, 228, 230, 231, 233, 235, 236, 240, 242, 244, 248, 249, 251, 252, 253, 255, 258, 259, 262, 263, 268, 269, 271, 272, 273, 277, 278, 284, 288, 290, 292, 295, 296, 298, 299, 300, 301, 304, 306, 307, 308, 310, 311, 312, 315, 316, 317, 319, 323, 324, 325, 326, 334, 336, 337, 338, 339, 343, 345, 346, 347, 349, 351, 352, 354, 355, 356, 360, 361, 362, 364, 366, 367, 368, 369, 370, 371, 376, 380, 381, 382, 383, 384, 385, 388, 389, 391, 392, 393, 394, 395, 396, 397, 398, 400, 401, 403, 404, 406, 408, 409, 411, 412, 416, 421, 423, 424, 428, 429, 431, 432, 433, 436, 439, 441, 442, 445, 448, 449, 452, 453, 457, 462, 463, 468, 469, 471, 472, 474, 475, 477, 478, 479, 481, 482, 483, 485, 486, 488, 489, 491, 494, 495, 496, 497, 502, 504, 505, 506, 507, 508, 513, 514, 517, 518, 519, 526, 528, 529, 533, 534, 536, 537, 538, 539, 543, 545, 546, 548, 549, 551, 552, 554, 558, 561, 562, 563, 565, 567, 569, 570, 571, 573, 577, 578, 580, 584, 585, 587, 589, 590, 592, 593, 594, 596, 599, 604, 605, 606, 608, 612, 616, 619, 621, 623, 625, 626, 627, 629, 630, 634, 635, 636, 637, 638, 640, 641, 644, 647, 648, 649, 650, 651, 663, 666, 667, 669, 671, 673, 676, 677, 678, 679, 684, 685, 689, 690, 691, 692, 693, 697, 699, 700, 701, 702, 707, 708, 709, 711, 712, 713, 716, 719, 720, 721, 724, 725, 726, 729, 730, 731, 732, 734, 735, 736, 737, 739, 740, 744, 750, 751, 753, 754, 755, 757, 758, 759, 760, 761, 766, 768, 769, 771, 775, 778, 780, 782, 783, 784, 785, 786, 787, 790, 791, 792, 793, 794, 796, 802, 803, 804, 806, 809, 810, 814, 815, 817, 820, 822, 823, 827, 828, 829, 830, 834, 837, 838, 839, 847, 850, 852, 858, 859, 860, 861, 864, 865, 871, 872, 874, 875, 877, 880, 882, 885, 886, 888, 889, 891, 892, 896, 899, 903, 904, 906, 909, 910, 913, 915, 916, 917, 918, 925, 926, 927, 932, 934, 935, 936, 938, 939, 940, 941, 944, 945, 948, 951, 953, 954, 956, 957, 960, 964, 965, 966, 967, 969, 975, 978, 979, 980, 981, 983, 985, 986, 987, 989, 996]\n",
            "Класс 2: графы с индексами [1, 6, 12, 26, 62, 82, 89, 110, 113, 138, 141, 143, 192, 241, 254, 257, 266, 348, 357, 434, 455, 464, 492, 493, 524, 645, 653, 656, 658, 670, 718, 727, 733, 745, 748, 765, 781, 797, 807, 808, 832, 844, 848, 851, 856, 863, 869, 876, 883, 898, 920, 924, 928, 929, 955, 961, 971, 997]\n",
            "Класс 3: графы с индексами [2, 11, 18, 20, 21, 24, 27, 30, 33, 35, 37, 38, 41, 44, 46, 50, 51, 64, 66, 73, 77, 78, 79, 83, 84, 92, 94, 100, 104, 111, 119, 121, 123, 128, 132, 134, 135, 137, 139, 142, 146, 152, 153, 158, 160, 164, 166, 167, 174, 185, 188, 194, 200, 201, 203, 205, 210, 211, 213, 219, 220, 223, 224, 232, 239, 243, 247, 250, 256, 261, 264, 265, 267, 270, 275, 276, 279, 280, 281, 282, 285, 287, 289, 291, 293, 294, 297, 302, 303, 305, 309, 313, 314, 320, 327, 328, 330, 331, 335, 340, 341, 342, 344, 350, 353, 358, 372, 373, 375, 377, 378, 379, 386, 390, 399, 407, 410, 413, 414, 415, 418, 419, 422, 425, 426, 430, 435, 437, 438, 443, 444, 446, 447, 450, 451, 456, 458, 459, 460, 465, 470, 473, 487, 498, 499, 500, 501, 503, 521, 523, 525, 527, 530, 531, 532, 541, 547, 556, 557, 564, 566, 568, 574, 579, 581, 582, 588, 591, 597, 600, 601, 602, 603, 607, 609, 610, 614, 620, 624, 628, 631, 632, 633, 639, 642, 643, 646, 654, 655, 660, 661, 662, 664, 668, 674, 675, 680, 681, 682, 683, 687, 688, 695, 696, 703, 704, 705, 706, 714, 715, 717, 728, 738, 746, 747, 752, 756, 763, 764, 767, 770, 773, 774, 777, 779, 788, 795, 798, 805, 811, 812, 813, 818, 819, 821, 824, 826, 831, 836, 841, 842, 845, 853, 855, 857, 862, 866, 867, 873, 878, 884, 887, 893, 900, 901, 905, 907, 908, 911, 914, 919, 921, 922, 931, 933, 937, 942, 946, 947, 949, 952, 958, 959, 962, 963, 970, 973, 974, 976, 977, 982, 984, 992, 993, 994, 995, 999]\n",
            "Класс 4: графы с индексами [4, 7, 16, 32, 42, 48, 321, 405, 476, 553, 659, 835, 897]\n",
            "Класс 5: графы с индексами [5, 34, 52, 68, 105, 124, 127, 129, 130, 144, 195, 229, 238, 260, 322, 454, 461, 466, 480, 509, 515, 522, 540, 550, 572, 576, 583, 598, 611, 613, 652, 694, 722, 742, 799, 801, 816, 840, 846, 879, 881, 890, 894, 912, 923, 990]\n",
            "Класс 6: графы с индексами [31, 43, 57, 93, 112, 120, 126, 154, 179, 197, 199, 206, 234, 245, 274, 286, 359, 387, 417, 420, 427, 467, 511, 516, 535, 542, 544, 559, 617, 698, 710, 743, 789, 833, 843, 849, 902, 943]\n",
            "Класс 7: графы с индексами [88, 171, 440, 512, 555]\n",
            "Класс 8: графы с индексами [90, 246, 283, 333, 365, 374, 402, 575, 657, 665, 741, 749, 800, 895, 991, 998]\n",
            "Класс 9: графы с индексами [156, 176, 193, 363, 484, 618, 723, 825, 854, 868, 930, 950, 968, 972]\n",
            "Класс 10: графы с индексами [184]\n",
            "Класс 11: графы с индексами [237, 332, 622, 772, 870]\n",
            "Класс 12: графы с индексами [318, 329, 490, 510, 560, 586, 686, 762, 776, 988]\n",
            "Класс 13: графы с индексами [520, 595, 615, 672]\n"
          ]
        }
      ]
    },
    {
      "cell_type": "code",
      "source": [
        "#Получим гистограмму\n",
        "\n",
        "# Получаем список размеров групп (число матриц в каждом классе)\n",
        "group_sizes = [len(indices) for indices in groups.values()]\n",
        "\n",
        "# Названия классов — можно оставить просто номера или использовать ключи\n",
        "class_labels = [f\"{i+1}\" for i in range(len(group_sizes))]\n",
        "\n",
        "# Построение гистограммы\n",
        "plt.figure(figsize=(18, 6))\n",
        "plt.bar(class_labels, group_sizes, width = 0.8)\n",
        "plt.xlabel('Класс')\n",
        "plt.ylabel('Количество матриц')\n",
        "plt.title('Распределение матриц по классам')\n",
        "plt.show()"
      ],
      "metadata": {
        "colab": {
          "base_uri": "https://localhost:8080/",
          "height": 501
        },
        "id": "qBboKKYMLXw5",
        "outputId": "0dcf59e4-ff71-435f-e03d-d99859638a46"
      },
      "execution_count": 19,
      "outputs": [
        {
          "output_type": "display_data",
          "data": {
            "text/plain": [
              "<Figure size 1800x600 with 1 Axes>"
            ],
            "image/png": "[encoded data removed]"
          },
          "metadata": {}
        }
      ]
    },
    {
      "cell_type": "code",
      "source": [
        "#Словарь смежности самого популярного графа\n",
        "\n",
        "print(l_adj[0])"
      ],
      "metadata": {
        "colab": {
          "base_uri": "https://localhost:8080/"
        },
        "id": "R1ktohbB95pH",
        "outputId": "bb278712-857a-4fa2-9781-b21a737d0041"
      },
      "execution_count": 20,
      "outputs": [
        {
          "output_type": "stream",
          "name": "stdout",
          "text": [
            "{0: [1, 2, 3], 1: [0, 8, 9], 2: [0, 9, 7], 3: [0, 5, 6], 4: [8, 5, 6], 5: [9, 3, 4], 6: [3, 4, 7], 7: [8, 2, 6], 8: [1, 4, 7], 9: [1, 2, 5]}\n"
          ]
        }
      ]
    },
    {
      "cell_type": "code",
      "source": [
        "adj_dict = l_adj[0]\n",
        "G = nx.Graph(adj_dict)\n",
        "nx.draw(G)"
      ],
      "metadata": {
        "colab": {
          "base_uri": "https://localhost:8080/",
          "height": 516
        },
        "id": "0KVIQnvB-k6e",
        "outputId": "62ba0958-d031-4bb5-c456-28a3dbeb491e"
      },
      "execution_count": 22,
      "outputs": [
        {
          "output_type": "display_data",
          "data": {
            "text/plain": [
              "<Figure size 640x480 with 1 Axes>"
            ],
            "image/png": "[encoded data removed]"
          },
          "metadata": {}
        }
      ]
    },
    {
      "cell_type": "code",
      "source": [
        "peterson_adj_dict = {\n",
        "    0: [1, 4, 5],\n",
        "    1: [0, 2, 6],\n",
        "    2: [1, 3, 7],\n",
        "    3: [2, 4, 8],\n",
        "    4: [0, 3, 9],\n",
        "    5: [0, 7, 8],\n",
        "    6: [1, 8, 9],\n",
        "    7: [2, 5, 9],\n",
        "    8: [3, 5, 6],\n",
        "    9: [4, 6, 7]\n",
        "}\n",
        "\n",
        "g = pynauty.Graph(\n",
        "        number_of_vertices=10,\n",
        "        adjacency_dict=peterson_adj_dict,\n",
        "        directed=False\n",
        "    )\n",
        "\n",
        "canon_labeling = pynauty.canon_graph(g)\n",
        "\n",
        "adj_dict = canon_labeling.adjacency_dict\n",
        "\n",
        "print(adj_dict)\n",
        "\n",
        "#Первый граф петерсона в выборке\n",
        "print(l_adj.index(adj_dict))"
      ],
      "metadata": {
        "colab": {
          "base_uri": "https://localhost:8080/"
        },
        "id": "yBDYBu50_kh9",
        "outputId": "aad059c9-86e1-40c4-d346-2795c48ce02f"
      },
      "execution_count": 27,
      "outputs": [
        {
          "output_type": "stream",
          "name": "stdout",
          "text": [
            "{0: [1, 2, 3], 1: [0, 4, 5], 2: [0, 9, 6], 3: [0, 8, 7], 4: [8, 1, 6], 5: [1, 9, 7], 6: [2, 4, 7], 7: [3, 5, 6], 8: [9, 3, 4], 9: [8, 2, 5]}\n",
            "156\n"
          ]
        }
      ]
    }
  ]
}